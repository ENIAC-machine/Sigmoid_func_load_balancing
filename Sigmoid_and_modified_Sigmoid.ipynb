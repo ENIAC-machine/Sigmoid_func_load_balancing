{
 "cells": [
  {
   "cell_type": "code",
   "execution_count": 1,
   "id": "3dd63f4e-0efd-4335-ae36-0d0b07677ef3",
   "metadata": {},
   "outputs": [],
   "source": [
    "import numpy as np\n",
    "import matplotlib.pyplot as plt\n",
    "from tqdm import tqdm"
   ]
  },
  {
   "cell_type": "markdown",
   "id": "1353b4f4-7989-4d2d-afbd-5ad48354a9bf",
   "metadata": {},
   "source": [
    "In this notebook you can see the realisations of the baseline and the modified algorithm outlined in the referenced [paper](https://www.sciencedirect.com/science/article/pii/S0743731521001325)"
   ]
  },
  {
   "cell_type": "markdown",
   "id": "d9a120c2-ff77-4268-b5d7-cb3e08f74fd7",
   "metadata": {
    "jp-MarkdownHeadingCollapsed": true
   },
   "source": [
    "## Baseline Algorithm"
   ]
  },
  {
   "cell_type": "code",
   "execution_count": 26,
   "id": "d1007187-2c41-4b3b-8a9e-0be23831c01d",
   "metadata": {},
   "outputs": [],
   "source": [
    "class Machine_basic:\n",
    "    def __init__(self, default_speed, speed_time_delta):\n",
    "        self.ds = default_speed - .3 #typically the speeds presented are lower than the real ones during overclocking\n",
    "        self.std = speed_time_delta\n",
    "        self.wh = [self.ds] #work history\n",
    "        self.flg_work = False \n",
    "\n",
    "    def work(self, load_size):\n",
    "        try:\n",
    "            self.wh.append(max(self.wh[-1] + np.random.uniform(-self.std, self.std), 1e-3))\n",
    "            return self.wh[-1]\n",
    "        except:\n",
    "            self.wh.append(1)\n",
    "            return self.wh[-1]\n",
    "\n",
    "    def check_work_finish(self):\n",
    "        if self.flg_work:\n",
    "            return False\n",
    "        else:\n",
    "            return self.wh[-1]"
   ]
  },
  {
   "cell_type": "code",
   "execution_count": 27,
   "id": "83f68231-ce8e-46ea-8849-a0e9bcae9e70",
   "metadata": {},
   "outputs": [],
   "source": [
    "def sigmoid_basic(N_WG, N, S, kernel_type='reg'):\n",
    "    \n",
    "    def package_size(j, x, k, N_WG, S_i, S_T):\n",
    "        return (1 - np.exp(-k*6*x/N_WG))*N_WG*S_i / ( (1 + np.exp(-k*6*x/N_WG)) * 2*N * S_T)\n",
    "\n",
    "    p = .05\n",
    "    x = N_WG\n",
    "    time_arr, c_arr = [], []\n",
    "    if kernel_type == 'reg':\n",
    "        k = 2 #k for regular kernels\n",
    "    else:\n",
    "        k = .5 #k for irregular kernels\n",
    "\n",
    "    oc, S_hist = [], np.zeros((N, 3))\n",
    "    for j in range(N):\n",
    "        oc.append(S[j].ds)\n",
    "        c_arr.append(min(np.floor(package_size(j, x, k, N_WG, S[j].ds, max(oc))), x))\n",
    "        S_hist[j, :] = S[j].work(c_arr[-1])\n",
    "        time_arr.append(c_arr[-1] / S_hist[j, 0])\n",
    "        x -= c_arr[-1] \n",
    "    oc, time_arr, c_arr = np.array(oc), np.array(time_arr), np.array(c_arr)\n",
    "    time_delta = 0\n",
    "    while x > 0:\n",
    "        j_ = np.where(time_arr - time_delta == min(time_arr - time_delta))[0][0]\n",
    "        speed = c_arr[j_] / time_arr[j_]\n",
    "        S_hist[j_, :] = np.roll(S_hist[j_, :], 1)\n",
    "        S_hist[j_, 0] = speed\n",
    "        S_j = np.mean(S_hist[j_, :])\n",
    "        std = np.std(S_hist[j_, :])\n",
    "        if std / S_j > .25:\n",
    "            k = .5 #situation consituting an irregular kernel\n",
    "        c_arr[j_] = min(np.floor(max(package_size(j, x, k, N_WG, S_j, max(S_hist[:, 0])), .05*time_arr[j_]*S_hist[j_, 0], oc[j_])), x)\n",
    "        time_delta = time_arr[j_]\n",
    "        time_arr[j_] = c_arr[j_] / S[j_].work(c_arr[-1])\n",
    "        x -= c_arr[-1]\n",
    "    return S_hist[:, 0]"
   ]
  },
  {
   "cell_type": "code",
   "execution_count": 28,
   "id": "ff6f6551-cc1c-41fc-9ee2-37c84e2a2966",
   "metadata": {},
   "outputs": [
    {
     "data": {
      "text/plain": [
       "array([4.68048038, 2.57711854, 5.61380534])"
      ]
     },
     "execution_count": 28,
     "metadata": {},
     "output_type": "execute_result"
    }
   ],
   "source": [
    "S = np.array([Machine_basic(5, .05), Machine_basic(3, .2), Machine_basic(6, .1)])\n",
    "N_WG = 10_000\n",
    "N = len(S)\n",
    "\n",
    "sigmoid_basic(N_WG, N, S)"
   ]
  },
  {
   "cell_type": "markdown",
   "id": "6c77a402-eb4a-4e47-82a9-a8c3f56faf67",
   "metadata": {
    "jp-MarkdownHeadingCollapsed": true
   },
   "source": [
    "## Modified Algorithm"
   ]
  },
  {
   "cell_type": "markdown",
   "id": "b3b55327-c128-408f-a42a-51c3140e7c37",
   "metadata": {},
   "source": [
    "Possible idea for improvement revolve around taking a larger sample to estimate the computing speed of the device. \\\n",
    "The idea is to increase the sample size and vary it based on the deviation induced by the last element. High deviation would suggest a saddle point in\\\n",
    "the function that describes the computing speed as a function of the load given, meaning that previous samples lose significantly in representativity"
   ]
  },
  {
   "cell_type": "code",
   "execution_count": 29,
   "id": "efd6470a-e053-4e6f-81a9-aab397169f19",
   "metadata": {},
   "outputs": [],
   "source": [
    "def sigmoid_v2(N_WG, N, S, kernel_type='reg'):\n",
    "    \n",
    "    def package_size(j, x, k, N_WG, S_i, S_T):\n",
    "        return (1 - np.exp(-k*6*x/N_WG))*N_WG*S_i / ( (1 + np.exp(-k*6*x/N_WG)) * 2*N * S_T)\n",
    "\n",
    "    p = .05\n",
    "    x = N_WG\n",
    "    time_arr, c_arr = [], []\n",
    "    if kernel_type == 'reg':\n",
    "        k = 2 #k for regular kernels\n",
    "    else:\n",
    "        k = .5 #k for irregular kernels\n",
    "\n",
    "    oc, S_hist = [], np.zeros((N, 5))\n",
    "    for j in range(N):\n",
    "        oc.append(S[j].ds)\n",
    "        c_arr.append(min(np.floor(package_size(j, x, k, N_WG, S[j].ds, max(oc))), x))\n",
    "        S_hist[j, :] = S[j].work(c_arr[-1])\n",
    "        time_arr.append(c_arr[-1] / S_hist[j, 0])\n",
    "        x -= c_arr[-1] \n",
    "    oc, time_arr, c_arr = np.array(oc), np.array(time_arr), np.array(c_arr)\n",
    "    time_delta, n, sample_size = 0, 0, 5\n",
    "    std_last = 100\n",
    "    while x > 0:\n",
    "        j_ = np.where(time_arr - time_delta == min(time_arr - time_delta))[0][0]\n",
    "        speed = c_arr[j_] / time_arr[j_]\n",
    "        S_hist[j_, :sample_size] = np.roll(S_hist[j_, :sample_size], 1)\n",
    "        S_hist[j_, 0] = speed\n",
    "        std = np.std(S_hist[j_, :sample_size])\n",
    "        if std > std_last*1.4:\n",
    "            sample_size = 3\n",
    "            n = 7\n",
    "        elif n == 0:\n",
    "            sample_size = 5\n",
    "        S_j = np.mean(S_hist[j_, :sample_size])\n",
    "        if std / S_j > .25:\n",
    "            k = .5 #situation consituting an irregular kernel\n",
    "        c_arr[j_] = min(np.floor(max(package_size(j, x, k, N_WG, S_j, max(S_hist[:, 0])), .05*time_arr[j_]*S_hist[j_, 0], oc[j_])), x)\n",
    "        time_delta = time_arr[j_]\n",
    "        time_arr[j_] = c_arr[j_] / S[j_].work(c_arr[-1])\n",
    "        x -= c_arr[-1]\n",
    "        std_last = std\n",
    "        if n > 0:\n",
    "            n -= 1\n",
    "    return S_hist[:, 0]"
   ]
  },
  {
   "cell_type": "code",
   "execution_count": 30,
   "id": "2a663ffd-1095-40a8-9919-1339099f5653",
   "metadata": {},
   "outputs": [
    {
     "data": {
      "text/plain": [
       "array([4.72793454, 2.58746963, 5.6113304 ])"
      ]
     },
     "execution_count": 30,
     "metadata": {},
     "output_type": "execute_result"
    }
   ],
   "source": [
    "S = np.array([Machine_basic(5, .05), Machine_basic(3, .2), Machine_basic(6, .1)])\n",
    "N_WG = 20_000\n",
    "N = len(S)\n",
    "\n",
    "sigmoid_v2(N_WG, N, S)"
   ]
  },
  {
   "cell_type": "markdown",
   "id": "d35eb858-e56d-475e-9e5f-f588b7f4e54f",
   "metadata": {
    "jp-MarkdownHeadingCollapsed": true
   },
   "source": [
    "## Error comparison"
   ]
  },
  {
   "cell_type": "markdown",
   "id": "e41fccd1-defc-4890-be3c-0c4954d192e1",
   "metadata": {},
   "source": [
    "Let us compare the precision of the two algorithms"
   ]
  },
  {
   "cell_type": "code",
   "execution_count": 33,
   "id": "7939ca36-37df-441a-a9b1-7452ddf4fccb",
   "metadata": {},
   "outputs": [
    {
     "name": "stderr",
     "output_type": "stream",
     "text": [
      "100%|███████████████████████████████████████████████████████████████████████████| 10000/10000 [00:36<00:00, 277.01it/s]\n"
     ]
    },
    {
     "data": {
      "image/png": "[encoded data removed]",
      "text/plain": [
       "<Figure size 640x480 with 1 Axes>"
      ]
     },
     "metadata": {},
     "output_type": "display_data"
    },
    {
     "data": {
      "text/plain": [
       "<Figure size 640x480 with 0 Axes>"
      ]
     },
     "metadata": {},
     "output_type": "display_data"
    }
   ],
   "source": [
    "sig_basic_hist, sig_v2_hist = [], []\n",
    "\n",
    "N_WG = 30_000\n",
    "N = 4\n",
    "\n",
    "for i in tqdm(range(10_000)):\n",
    "    S = np.array([Machine_basic(5, .05), Machine_basic(3, .02), Machine_basic(6, .01), Machine_basic(2.5, .017)])\n",
    "    sig_basic_hist.append(sigmoid_basic(N_WG, N, S))\n",
    "    S = np.array([Machine_basic(5, .05), Machine_basic(3, .02), Machine_basic(6, .01), Machine_basic(2.5, .017)])\n",
    "    sig_v2_hist.append(sigmoid_v2(N_WG, N, S))\n",
    "\n",
    "sig_basic_hist, sig_v2_hist = np.array(sig_basic_hist), np.array(sig_v2_hist)\n",
    "plt.plot(np.abs(np.mean(sig_basic_hist, axis=0) - [5, 3, 6, 2.5]), label='Error of the original algorithm')\n",
    "plt.plot(np.abs(np.mean(sig_v2_hist, axis=0) - [5, 3, 6, 2.5]), label='Error of the modified algorithm')\n",
    "plt.legend()\n",
    "plt.show()\n",
    "plt.clf()"
   ]
  },
  {
   "cell_type": "markdown",
   "id": "b921c590-9da8-4531-8931-984cff387c32",
   "metadata": {},
   "source": [
    "As we can see, the modified algorithm generally provides a smaller/ almost identical error in the estimation of the true computing speed of the device "
   ]
  }
 ],
 "metadata": {
  "kernelspec": {
   "display_name": "Python 3 (ipykernel)",
   "language": "python",
   "name": "python3"
  },
  "language_info": {
   "codemirror_mode": {
    "name": "ipython",
    "version": 3
   },
   "file_extension": ".py",
   "mimetype": "text/x-python",
   "name": "python",
   "nbconvert_exporter": "python",
   "pygments_lexer": "ipython3",
   "version": "3.12.3"
  }
 },
 "nbformat": 4,
 "nbformat_minor": 5
}
